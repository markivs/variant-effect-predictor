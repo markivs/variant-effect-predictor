{
 "cells": [
  {
   "cell_type": "code",
   "execution_count": 35,
   "id": "bfc5b345-8055-492d-935c-6b805b158762",
   "metadata": {},
   "outputs": [],
   "source": [
    "import numpy as np\n",
    "from sklearn.svm import SVC\n",
    "\n",
    "DATA_CSV = \"pulsar_data.csv\"\n",
    "\n",
    "def read_data():\n",
    "    # DO NOT modify this function\n",
    "\n",
    "    data = np.genfromtxt(DATA_CSV, skip_header=1, delimiter=',')\n",
    "    X, Y = data[:, : 8], data[:, 8]\n",
    "    X = np.nan_to_num(X)\n",
    "\n",
    "    permutation = np.random.permutation(X.shape[0])\n",
    "    train_idxs = permutation[: 1_000]\n",
    "    test_idxs = permutation[1_000: 2_000]\n",
    "\n",
    "    X_train, Y_train = X[train_idxs], Y[train_idxs]\n",
    "    X_test, Y_test = X[test_idxs], Y[test_idxs]\n",
    "    return X_train, Y_train, X_test, Y_test\n",
    "\n",
    "def main():\n",
    "    pass\n",
    "    \n",
    "\n",
    "if __name__ == '__main__':\n",
    "    main()"
   ]
  },
  {
   "cell_type": "code",
   "execution_count": 45,
   "id": "5262866f-9ed6-497d-b2ab-d02aa63b3d2f",
   "metadata": {},
   "outputs": [],
   "source": [
    "def k_fold(kernel, degree=None):\n",
    "    X_train, Y_train, X_test, Y_test = read_data()\n",
    "    C = [0.1, 1, 10, 100, 1000]\n",
    "    accuracies = {}\n",
    "\n",
    "    Y_train = Y_train.reshape(-1, 1)\n",
    "    \n",
    "    for c_val in C:\n",
    "        scores = []\n",
    "        start = 0\n",
    "        end = 200\n",
    "        while(end <= 1000):\n",
    "            X = np.vstack([X_train[0:start], X_train[end:1000]])\n",
    "            Y = np.vstack([Y_train[0:start], Y_train[end:1000]])\n",
    "            X_val = X_train[start:end]\n",
    "            Y_val = Y_train[start:end]\n",
    "            \n",
    "            if(kernel==\"poly\"):\n",
    "                classifier = SVC(C=c_val, kernel=kernel, degree=degree)\n",
    "            else:\n",
    "                classifier = SVC(C=c_val, kernel=kernel)\n",
    "            classifier.fit(X, Y.ravel())\n",
    "            prediction = classifier.predict(X_val)\n",
    "            \n",
    "            score = np.sum(prediction==Y_val.ravel())/Y_val.shape[0]\n",
    "            scores.append(score)\n",
    "            \n",
    "            start += 200\n",
    "            end += 200\n",
    "            print(f\"c_val:{c_val} k_fold:[{start}, {end}]\")\n",
    "        accuracies[c_val] = np.mean(np.array(scores))\n",
    "        # print(c_val)\n",
    "    return accuracies"
   ]
  },
  {
   "cell_type": "code",
   "execution_count": 47,
   "id": "e4f6202c-beec-42e6-91d7-893be5dc06a0",
   "metadata": {},
   "outputs": [
    {
     "name": "stdout",
     "output_type": "stream",
     "text": [
      "c_val:0.1 k_fold:[200, 400]\n",
      "c_val:0.1 k_fold:[400, 600]\n",
      "c_val:0.1 k_fold:[600, 800]\n",
      "c_val:0.1 k_fold:[800, 1000]\n",
      "c_val:0.1 k_fold:[1000, 1200]\n",
      "c_val:1 k_fold:[200, 400]\n",
      "c_val:1 k_fold:[400, 600]\n",
      "c_val:1 k_fold:[600, 800]\n",
      "c_val:1 k_fold:[800, 1000]\n",
      "c_val:1 k_fold:[1000, 1200]\n",
      "c_val:10 k_fold:[200, 400]\n",
      "c_val:10 k_fold:[400, 600]\n",
      "c_val:10 k_fold:[600, 800]\n",
      "c_val:10 k_fold:[800, 1000]\n",
      "c_val:10 k_fold:[1000, 1200]\n",
      "c_val:100 k_fold:[200, 400]\n",
      "c_val:100 k_fold:[400, 600]\n",
      "c_val:100 k_fold:[600, 800]\n",
      "c_val:100 k_fold:[800, 1000]\n",
      "c_val:100 k_fold:[1000, 1200]\n",
      "c_val:1000 k_fold:[200, 400]\n",
      "c_val:1000 k_fold:[400, 600]\n",
      "c_val:1000 k_fold:[600, 800]\n",
      "c_val:1000 k_fold:[800, 1000]\n",
      "c_val:1000 k_fold:[1000, 1200]\n"
     ]
    },
    {
     "data": {
      "text/plain": [
       "{0.1: 0.969, 1: 0.967, 10: 0.967, 100: 0.967, 1000: 0.9650000000000001}"
      ]
     },
     "execution_count": 47,
     "metadata": {},
     "output_type": "execute_result"
    }
   ],
   "source": [
    "k_fold(\"linear\")"
   ]
  },
  {
   "cell_type": "code",
   "execution_count": 46,
   "id": "e412b098-6558-45fd-bc0d-6930a95a74cd",
   "metadata": {},
   "outputs": [
    {
     "name": "stdout",
     "output_type": "stream",
     "text": [
      "c_val:0.1 k_fold:[200, 400]\n",
      "c_val:0.1 k_fold:[400, 600]\n",
      "c_val:0.1 k_fold:[600, 800]\n",
      "c_val:0.1 k_fold:[800, 1000]\n",
      "c_val:0.1 k_fold:[1000, 1200]\n",
      "c_val:1 k_fold:[200, 400]\n",
      "c_val:1 k_fold:[400, 600]\n",
      "c_val:1 k_fold:[600, 800]\n",
      "c_val:1 k_fold:[800, 1000]\n",
      "c_val:1 k_fold:[1000, 1200]\n",
      "c_val:10 k_fold:[200, 400]\n",
      "c_val:10 k_fold:[400, 600]\n",
      "c_val:10 k_fold:[600, 800]\n",
      "c_val:10 k_fold:[800, 1000]\n",
      "c_val:10 k_fold:[1000, 1200]\n",
      "c_val:100 k_fold:[200, 400]\n",
      "c_val:100 k_fold:[400, 600]\n",
      "c_val:100 k_fold:[600, 800]\n",
      "c_val:100 k_fold:[800, 1000]\n",
      "c_val:100 k_fold:[1000, 1200]\n",
      "c_val:1000 k_fold:[200, 400]\n",
      "c_val:1000 k_fold:[400, 600]\n",
      "c_val:1000 k_fold:[600, 800]\n",
      "c_val:1000 k_fold:[800, 1000]\n",
      "c_val:1000 k_fold:[1000, 1200]\n"
     ]
    },
    {
     "data": {
      "text/plain": [
       "{0.1: 0.9170000000000001,\n",
       " 1: 0.9570000000000001,\n",
       " 10: 0.96,\n",
       " 100: 0.96,\n",
       " 1000: 0.96}"
      ]
     },
     "execution_count": 46,
     "metadata": {},
     "output_type": "execute_result"
    }
   ],
   "source": [
    "k_fold('poly', degree=2)"
   ]
  },
  {
   "cell_type": "code",
   "execution_count": 42,
   "id": "1c09a9b0-4572-48a6-801e-c75a8a3fdd16",
   "metadata": {},
   "outputs": [
    {
     "name": "stdout",
     "output_type": "stream",
     "text": [
      "c_val:1.0 k_fold:[200, 400]\n",
      "c_val:1.0 k_fold:[400, 600]\n",
      "c_val:1.0 k_fold:[600, 800]\n",
      "c_val:1.0 k_fold:[800, 1000]\n",
      "c_val:1.0 k_fold:[1000, 1200]\n",
      "c_val:10.0 k_fold:[200, 400]\n",
      "c_val:10.0 k_fold:[400, 600]\n",
      "c_val:10.0 k_fold:[600, 800]\n",
      "c_val:10.0 k_fold:[800, 1000]\n",
      "c_val:10.0 k_fold:[1000, 1200]\n",
      "c_val:100.0 k_fold:[200, 400]\n",
      "c_val:100.0 k_fold:[400, 600]\n",
      "c_val:100.0 k_fold:[600, 800]\n",
      "c_val:100.0 k_fold:[800, 1000]\n",
      "c_val:100.0 k_fold:[1000, 1200]\n",
      "c_val:1000.0 k_fold:[200, 400]\n",
      "c_val:1000.0 k_fold:[400, 600]\n",
      "c_val:1000.0 k_fold:[600, 800]\n",
      "c_val:1000.0 k_fold:[800, 1000]\n",
      "c_val:1000.0 k_fold:[1000, 1200]\n",
      "c_val:10000.0 k_fold:[200, 400]\n",
      "c_val:10000.0 k_fold:[400, 600]\n",
      "c_val:10000.0 k_fold:[600, 800]\n",
      "c_val:10000.0 k_fold:[800, 1000]\n",
      "c_val:10000.0 k_fold:[1000, 1200]\n"
     ]
    },
    {
     "data": {
      "text/plain": [
       "{1.0: 164.38400000000001,\n",
       " 10.0: 163.88600000000002,\n",
       " 100.0: 163.404,\n",
       " 1000.0: 163.26,\n",
       " 10000.0: 163.27599999999998}"
      ]
     },
     "execution_count": 42,
     "metadata": {},
     "output_type": "execute_result"
    }
   ],
   "source": [
    "k_fold('poly', degree=5)"
   ]
  },
  {
   "cell_type": "code",
   "execution_count": 41,
   "id": "82a9a9d9-5229-4a07-948a-ad7081472ed2",
   "metadata": {},
   "outputs": [
    {
     "name": "stdout",
     "output_type": "stream",
     "text": [
      "c_val:1.0 k_fold:[200, 400]\n",
      "c_val:1.0 k_fold:[400, 600]\n",
      "c_val:1.0 k_fold:[600, 800]\n",
      "c_val:1.0 k_fold:[800, 1000]\n",
      "c_val:1.0 k_fold:[1000, 1200]\n",
      "c_val:10.0 k_fold:[200, 400]\n",
      "c_val:10.0 k_fold:[400, 600]\n",
      "c_val:10.0 k_fold:[600, 800]\n",
      "c_val:10.0 k_fold:[800, 1000]\n",
      "c_val:10.0 k_fold:[1000, 1200]\n",
      "c_val:100.0 k_fold:[200, 400]\n",
      "c_val:100.0 k_fold:[400, 600]\n",
      "c_val:100.0 k_fold:[600, 800]\n",
      "c_val:100.0 k_fold:[800, 1000]\n",
      "c_val:100.0 k_fold:[1000, 1200]\n",
      "c_val:1000.0 k_fold:[200, 400]\n",
      "c_val:1000.0 k_fold:[400, 600]\n",
      "c_val:1000.0 k_fold:[600, 800]\n",
      "c_val:1000.0 k_fold:[800, 1000]\n",
      "c_val:1000.0 k_fold:[1000, 1200]\n",
      "c_val:10000.0 k_fold:[200, 400]\n",
      "c_val:10000.0 k_fold:[400, 600]\n",
      "c_val:10000.0 k_fold:[600, 800]\n",
      "c_val:10000.0 k_fold:[800, 1000]\n",
      "c_val:10000.0 k_fold:[1000, 1200]\n"
     ]
    },
    {
     "data": {
      "text/plain": [
       "{1.0: 175.85,\n",
       " 10.0: 174.856,\n",
       " 100.0: 174.53799999999998,\n",
       " 1000.0: 173.55199999999996,\n",
       " 10000.0: 173.366}"
      ]
     },
     "execution_count": 41,
     "metadata": {},
     "output_type": "execute_result"
    }
   ],
   "source": [
    "k_fold('rbf')"
   ]
  },
  {
   "cell_type": "code",
   "execution_count": null,
   "id": "e43857d7-9100-4b47-acdb-b3e4a7f42c3e",
   "metadata": {},
   "outputs": [],
   "source": []
  }
 ],
 "metadata": {
  "kernelspec": {
   "display_name": "Python 3 (ipykernel)",
   "language": "python",
   "name": "python3"
  },
  "language_info": {
   "codemirror_mode": {
    "name": "ipython",
    "version": 3
   },
   "file_extension": ".py",
   "mimetype": "text/x-python",
   "name": "python",
   "nbconvert_exporter": "python",
   "pygments_lexer": "ipython3",
   "version": "3.9.7"
  }
 },
 "nbformat": 4,
 "nbformat_minor": 5
}
